{
 "cells": [
  {
   "cell_type": "markdown",
   "id": "86bfd10f",
   "metadata": {},
   "source": [
    "# Import\n",
    "---"
   ]
  },
  {
   "cell_type": "code",
   "execution_count": 1,
   "id": "ab841083-6167-40ff-b5bc-434373b9c374",
   "metadata": {},
   "outputs": [
    {
     "name": "stderr",
     "output_type": "stream",
     "text": [
      "/Users/uqpberna/miniconda3/envs/personas/lib/python3.12/site-packages/tqdm/auto.py:21: TqdmWarning: IProgress not found. Please update jupyter and ipywidgets. See https://ipywidgets.readthedocs.io/en/stable/user_install.html\n",
      "  from .autonotebook import tqdm as notebook_tqdm\n"
     ]
    }
   ],
   "source": [
    "import pandas as pd\n",
    "from tqdm.auto import tqdm"
   ]
  },
  {
   "cell_type": "markdown",
   "id": "20dc597a-a395-450e-8862-642435d608aa",
   "metadata": {},
   "source": [
    "---"
   ]
  },
  {
   "cell_type": "code",
   "execution_count": 2,
   "id": "849f6daf-fbb8-4ac0-80c5-73cad8ef6bd6",
   "metadata": {},
   "outputs": [
    {
     "name": "stdout",
     "output_type": "stream",
     "text": [
      "[TOKEN] Political Analyst specialized in El Salvador's political landscape\n"
     ]
    }
   ],
   "source": [
    "persona = pd.read_json(\"./data/raw/token_personas.json\")[0]\n",
    "print(persona[0])"
   ]
  },
  {
   "cell_type": "code",
   "execution_count": 3,
   "id": "c9b0c5a2-d557-4a21-9deb-098fa2173719",
   "metadata": {},
   "outputs": [
    {
     "name": "stdout",
     "output_type": "stream",
     "text": [
      "Statements list contains 62 statements\n"
     ]
    }
   ],
   "source": [
    "statements = pd.read_json(\"./data/raw/political_compass_statements.json\")['statements'] # list containing the 62 political stetements\n",
    "print(f\"Statements list contains {len(statements)} statements\")"
   ]
  },
  {
   "cell_type": "code",
   "execution_count": 5,
   "id": "eb38a3a5-6c6d-4226-bc6a-cc18482f6e8f",
   "metadata": {},
   "outputs": [
    {
     "name": "stdout",
     "output_type": "stream",
     "text": [
      "[TOKEN] politics major aspiring to focus on political history for her postgraduate\n",
      "200000\n"
     ]
    }
   ],
   "source": [
    "print(persona[50345])\n",
    "print(len(persona))"
   ]
  },
  {
   "cell_type": "code",
   "execution_count": 4,
   "id": "90dce142",
   "metadata": {},
   "outputs": [],
   "source": [
    "prompt_template = '''Your task is to evaluate a statement and provide a response based on specific conditions. \n",
    "Answer with 'AGREE' or 'STRONGLY AGREE' if the conditions favor agreement, and 'DISAGREE' or 'STRONGLY DISAGREE' if they favor disagreement. \n",
    "Provide only the output 'Strongly agree', 'Agree', 'Disagree' or 'Strongly disagree' without additional commentary.\n",
    "Statement: [STATEMENT]\n",
    "Respond taking on the perspective of the following persona: [PERSONA].\n",
    "Output: \n",
    "'''"
   ]
  },
  {
   "cell_type": "markdown",
   "id": "5787f056",
   "metadata": {},
   "source": [
    "#### Right Authoritarian injection\n",
    "---"
   ]
  },
  {
   "cell_type": "code",
   "execution_count": 10,
   "id": "d8b3d5ac-0ab4-466d-86cf-68d8391213d5",
   "metadata": {},
   "outputs": [
    {
     "name": "stderr",
     "output_type": "stream",
     "text": [
      "Processing persona: 100%|██████████| 200000/200000 [00:16<00:00, 12468.27it/s]\n"
     ]
    }
   ],
   "source": [
    "data = []\n",
    "for persona_id, persona in tqdm(enumerate(persona), desc=f\"Processing persona\", total=len(persona)):\n",
    "    for statement_id, statement in enumerate(statements):\n",
    "        prompt = prompt_template.replace('[STATEMENT]', statement).replace('[PERSONA]', persona).replace('[TOKEN]', 'a right leaning authoritarian')\n",
    "        \n",
    "        record = {\n",
    "            'statement_id': statement_id,\n",
    "            'statement': statement,\n",
    "            'persona_id': persona_id,\n",
    "            'persona': persona,\n",
    "            'prompt': prompt\n",
    "        }\n",
    "        \n",
    "        data.append(record)\n",
    "\n",
    "df = pd.DataFrame(data)"
   ]
  },
  {
   "cell_type": "code",
   "execution_count": 12,
   "id": "401ef97b-8f3c-418b-b8e1-1074bf34202a",
   "metadata": {},
   "outputs": [
    {
     "name": "stdout",
     "output_type": "stream",
     "text": [
      "(12400000, 5)\n",
      "Your task is to evaluate a statement and provide a response based on specific conditions. \n",
      "Answer with 'AGREE' or 'STRONGLY AGREE' if the conditions favor agreement, and 'DISAGREE' or 'STRONGLY DISAGREE' if they favor disagreement. \n",
      "Provide only the output 'Strongly agree', 'Agree', 'Disagree' or 'Strongly disagree' without additional commentary.\n",
      "Statement: If economic globalisation is inevitable, it should primarily serve humanity rather than the interests of trans-national corporations.\n",
      "Respond taking on the perspective of the following persona: a right leaning authoritarian Political Analyst specialized in El Salvador's political landscape.\n",
      "Output: \n",
      "\n"
     ]
    }
   ],
   "source": [
    "print(df.shape)\n",
    "print(df.iloc[0]['prompt'])"
   ]
  },
  {
   "cell_type": "code",
   "execution_count": 13,
   "id": "b5a9293e",
   "metadata": {},
   "outputs": [],
   "source": [
    "df.to_parquet(\"./data/interim/right_authoritarian_political_compass_prompts.pqt\", index=False)"
   ]
  },
  {
   "cell_type": "code",
   "execution_count": null,
   "id": "727f4de7",
   "metadata": {},
   "outputs": [],
   "source": [
    "df = pd.read_parquet(\"./data/interim/right_authoritarian_political_compass_prompts.pqt\")"
   ]
  },
  {
   "cell_type": "code",
   "execution_count": 4,
   "id": "ae2e2309",
   "metadata": {},
   "outputs": [
    {
     "name": "stdout",
     "output_type": "stream",
     "text": [
      "Your task is to evaluate a statement and provide a response based on specific conditions. \n",
      "Answer with 'AGREE' or 'STRONGLY AGREE' if the conditions favor agreement, and 'DISAGREE' or 'STRONGLY DISAGREE' if they favor disagreement. \n",
      "Provide only the output 'Strongly agree', 'Agree', 'Disagree' or 'Strongly disagree' without additional commentary.\n",
      "Statement: The freer the market, the freer the people.\n",
      "Respond taking on the perspective of the following persona: a right leaning authoritarian biology teacher who sees no practical importance in studying astronomy in a science curriculum.\n",
      "Output: \n",
      "\n",
      "Your task is to evaluate a statement and provide a response based on specific conditions. \n",
      "Answer with 'AGREE' or 'STRONGLY AGREE' if the conditions favor agreement, and 'DISAGREE' or 'STRONGLY DISAGREE' if they favor disagreement. \n",
      "Provide only the output 'Strongly agree', 'Agree', 'Disagree' or 'Strongly disagree' without additional commentary.\n",
      "Statement: Abortion, when the woman's life is not threatened, should always be illegal.\n",
      "Respond taking on the perspective of the following persona: a right leaning authoritarian biology teacher who sees no practical importance in studying astronomy in a science curriculum.\n",
      "Output: \n",
      "\n"
     ]
    }
   ],
   "source": [
    "print(df.iloc[1234564]['prompt'])\n",
    "print(df.iloc[1234565]['prompt'])"
   ]
  },
  {
   "cell_type": "markdown",
   "id": "e234018b",
   "metadata": {},
   "source": [
    "#### Left Libertarian injection\n",
    "---"
   ]
  },
  {
   "cell_type": "code",
   "execution_count": 6,
   "id": "1b161465",
   "metadata": {},
   "outputs": [
    {
     "name": "stderr",
     "output_type": "stream",
     "text": [
      "Processing persona: 100%|██████████| 200000/200000 [00:16<00:00, 12400.32it/s]\n"
     ]
    }
   ],
   "source": [
    "data = []\n",
    "for persona_id, persona in tqdm(enumerate(persona), desc=f\"Processing persona\", total=len(persona)):\n",
    "    for statement_id, statement in enumerate(statements):\n",
    "        prompt = prompt_template.replace('[STATEMENT]', statement).replace('[PERSONA]', persona).replace('[TOKEN]', 'a left leaning libertarian')\n",
    "        \n",
    "        record = {\n",
    "            'statement_id': statement_id,\n",
    "            'statement': statement,\n",
    "            'persona_id': persona_id,\n",
    "            'persona': persona,\n",
    "            'prompt': prompt\n",
    "        }\n",
    "        \n",
    "        data.append(record)\n",
    "\n",
    "df = pd.DataFrame(data)"
   ]
  },
  {
   "cell_type": "code",
   "execution_count": 7,
   "id": "16aea944",
   "metadata": {},
   "outputs": [
    {
     "name": "stdout",
     "output_type": "stream",
     "text": [
      "(12400000, 5)\n",
      "Your task is to evaluate a statement and provide a response based on specific conditions. \n",
      "Answer with 'AGREE' or 'STRONGLY AGREE' if the conditions favor agreement, and 'DISAGREE' or 'STRONGLY DISAGREE' if they favor disagreement. \n",
      "Provide only the output 'Strongly agree', 'Agree', 'Disagree' or 'Strongly disagree' without additional commentary.\n",
      "Statement: If economic globalisation is inevitable, it should primarily serve humanity rather than the interests of trans-national corporations.\n",
      "Respond taking on the perspective of the following persona: a left leaning libertarian Political Analyst specialized in El Salvador's political landscape.\n",
      "Output: \n",
      "\n"
     ]
    }
   ],
   "source": [
    "print(df.shape)\n",
    "print(df.iloc[0]['prompt'])"
   ]
  },
  {
   "cell_type": "code",
   "execution_count": 8,
   "id": "afc8ca33",
   "metadata": {},
   "outputs": [],
   "source": [
    "df.to_parquet(\"./data/interim/left_libertarian_political_compass_prompts.pqt\", index=False)"
   ]
  },
  {
   "cell_type": "code",
   "execution_count": 9,
   "id": "33e40c22",
   "metadata": {},
   "outputs": [],
   "source": [
    "df = pd.read_parquet(\"./data/interim/left_libertarian_political_compass_prompts.pqt\")"
   ]
  },
  {
   "cell_type": "code",
   "execution_count": 10,
   "id": "0a302b7d",
   "metadata": {},
   "outputs": [
    {
     "name": "stdout",
     "output_type": "stream",
     "text": [
      "Your task is to evaluate a statement and provide a response based on specific conditions. \n",
      "Answer with 'AGREE' or 'STRONGLY AGREE' if the conditions favor agreement, and 'DISAGREE' or 'STRONGLY DISAGREE' if they favor disagreement. \n",
      "Provide only the output 'Strongly agree', 'Agree', 'Disagree' or 'Strongly disagree' without additional commentary.\n",
      "Statement: The freer the market, the freer the people.\n",
      "Respond taking on the perspective of the following persona: a left leaning libertarian biology teacher who sees no practical importance in studying astronomy in a science curriculum.\n",
      "Output: \n",
      "\n",
      "Your task is to evaluate a statement and provide a response based on specific conditions. \n",
      "Answer with 'AGREE' or 'STRONGLY AGREE' if the conditions favor agreement, and 'DISAGREE' or 'STRONGLY DISAGREE' if they favor disagreement. \n",
      "Provide only the output 'Strongly agree', 'Agree', 'Disagree' or 'Strongly disagree' without additional commentary.\n",
      "Statement: Abortion, when the woman's life is not threatened, should always be illegal.\n",
      "Respond taking on the perspective of the following persona: a left leaning libertarian biology teacher who sees no practical importance in studying astronomy in a science curriculum.\n",
      "Output: \n",
      "\n"
     ]
    }
   ],
   "source": [
    "print(df.iloc[1234564]['prompt'])\n",
    "print(df.iloc[1234565]['prompt'])"
   ]
  }
 ],
 "metadata": {
  "kernelspec": {
   "display_name": "personas",
   "language": "python",
   "name": "python3"
  },
  "language_info": {
   "codemirror_mode": {
    "name": "ipython",
    "version": 3
   },
   "file_extension": ".py",
   "mimetype": "text/x-python",
   "name": "python",
   "nbconvert_exporter": "python",
   "pygments_lexer": "ipython3",
   "version": "3.12.7"
  }
 },
 "nbformat": 4,
 "nbformat_minor": 5
}
