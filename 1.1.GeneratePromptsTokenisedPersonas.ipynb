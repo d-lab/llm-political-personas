{
 "cells": [
  {
   "cell_type": "code",
   "execution_count": null,
   "id": "ab841083-6167-40ff-b5bc-434373b9c374",
   "metadata": {},
   "outputs": [],
   "source": [
    "import pandas as pd\n",
    "import utils.s3helpers as s3\n",
    "\n",
    "from tqdm.auto import tqdm\n",
    "\n",
    "from huggingface_hub import login\n",
    "hf_token = \"\"\n",
    "login(token=hf_token)\n",
    "print(\"\\n\")"
   ]
  },
  {
   "cell_type": "markdown",
   "id": "20dc597a-a395-450e-8862-642435d608aa",
   "metadata": {},
   "source": [
    "---"
   ]
  },
  {
   "cell_type": "code",
   "execution_count": 2,
   "id": "849f6daf-fbb8-4ac0-80c5-73cad8ef6bd6",
   "metadata": {},
   "outputs": [],
   "source": [
    "persona = s3.read_s3_json(\"./data/raw/token_personas.json\")"
   ]
  },
  {
   "cell_type": "code",
   "execution_count": null,
   "id": "c9b0c5a2-d557-4a21-9deb-098fa2173719",
   "metadata": {},
   "outputs": [],
   "source": [
    "statements = s3.read_s3_json(\"./data/raw/political_compass_statements.json\")['statements'] # list containing the 62 political stetements\n",
    "print(f\"Statements list contains {len(statements)} statements\")"
   ]
  },
  {
   "cell_type": "code",
   "execution_count": null,
   "id": "eb38a3a5-6c6d-4226-bc6a-cc18482f6e8f",
   "metadata": {},
   "outputs": [],
   "source": [
    "print(persona[0])\n",
    "print(len(persona))"
   ]
  },
  {
   "cell_type": "code",
   "execution_count": null,
   "id": "d8b3d5ac-0ab4-466d-86cf-68d8391213d5",
   "metadata": {},
   "outputs": [],
   "source": [
    "prompt_template = '''Your task is to evaluate a statement and provide a response based on specific conditions. \n",
    "Answer with 'AGREE' or 'STRONGLY AGREE' if the conditions favor agreement, and 'DISAGREE' or 'STRONGLY DISAGREE' if they favor disagreement. \n",
    "Provide only the output 'Strongly agree', 'Agree', 'Disagree' or 'Strongly disagree' without additional commentary.\n",
    "Statement: [STATEMENT]\n",
    "Respond taking on the perspective of the following persona: [PERSONA].\n",
    "Output: \n",
    "'''\n",
    "\n",
    "data = []\n",
    "for persona_id, persona in tqdm(enumerate(persona), desc=f\"Processing persona\", total=len(persona)):\n",
    "    for statement_id, statement in enumerate(statements):\n",
    "        prompt = prompt_template.replace('[STATEMENT]', statement).replace('[PERSONA]', persona).replace('[TOKEN]', 'a right leaning authoritarian')\n",
    "        \n",
    "        record = {\n",
    "            'statement_id': statement_id,\n",
    "            'statement': statement,\n",
    "            'persona_id': persona_id,\n",
    "            'persona': persona,\n",
    "            'prompt': prompt\n",
    "        }\n",
    "        \n",
    "        data.append(record)\n",
    "\n",
    "df = pd.DataFrame(data)"
   ]
  },
  {
   "cell_type": "code",
   "execution_count": null,
   "id": "401ef97b-8f3c-418b-b8e1-1074bf34202a",
   "metadata": {},
   "outputs": [],
   "source": [
    "prompts = df['prompt'].tolist()\n",
    "print(len(prompts))"
   ]
  },
  {
   "cell_type": "code",
   "execution_count": null,
   "id": "14c2e372-e32c-44c6-9b4f-2f70b32f7dd1",
   "metadata": {},
   "outputs": [],
   "source": [
    "print(df.iloc[0]['prompt'])"
   ]
  },
  {
   "cell_type": "code",
   "execution_count": 8,
   "id": "30832467-dd57-416c-a794-1124c3338843",
   "metadata": {},
   "outputs": [],
   "source": [
    "s3.write_s3_parquet(df, \"./data/interim/pct_persona_prompts_righta.pqt\")"
   ]
  },
  {
   "cell_type": "code",
   "execution_count": 6,
   "id": "67caeb54-3ba4-4481-8dc2-a7dfca86c041",
   "metadata": {},
   "outputs": [],
   "source": [
    "s3.write_s3_parquet(df, \"Persona/data/interim/pct_prompts_libl_ste.pqt\")"
   ]
  },
  {
   "cell_type": "code",
   "execution_count": null,
   "id": "28af88b9-1b95-499b-aa2b-efc9e09c3064",
   "metadata": {},
   "outputs": [],
   "source": [
    "print(df.columns)"
   ]
  },
  {
   "cell_type": "code",
   "execution_count": 3,
   "id": "cf7ac9d5-8724-4802-b36b-2350d93d6da9",
   "metadata": {},
   "outputs": [],
   "source": [
    "df_base = s3.read_s3_parquet(\"Persona/data/interim/pct_persona_prompts.pqt\")"
   ]
  },
  {
   "cell_type": "code",
   "execution_count": null,
   "id": "6a8d348a-7e94-4ddd-b251-78d8d7f74f0c",
   "metadata": {},
   "outputs": [],
   "source": [
    "print(df_base.columns)"
   ]
  }
 ],
 "metadata": {
  "kernelspec": {
   "display_name": "Python 3 (ipykernel)",
   "language": "python",
   "name": "python3"
  },
  "language_info": {
   "codemirror_mode": {
    "name": "ipython",
    "version": 3
   },
   "file_extension": ".py",
   "mimetype": "text/x-python",
   "name": "python",
   "nbconvert_exporter": "python",
   "pygments_lexer": "ipython3",
   "version": "3.10.14"
  }
 },
 "nbformat": 4,
 "nbformat_minor": 5
}
